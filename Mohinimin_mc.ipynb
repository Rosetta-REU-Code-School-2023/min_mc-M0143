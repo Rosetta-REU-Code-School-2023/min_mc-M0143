{
  "cells": [
    {
      "cell_type": "markdown",
      "metadata": {
        "id": "t8gob4mme1ew"
      },
      "source": [
        "Before you turn this problem in, make sure everything runs as expected. First, **restart the kernel** (in the menubar, select Kernel$\\rightarrow$Restart) and then **run all cells** (in the menubar, select Cell$\\rightarrow$Run All).\n",
        "\n",
        "Make sure you fill in any place that says `YOUR CODE HERE` or \"YOUR ANSWER HERE\", as well as your name and collaborators below:"
      ]
    },
    {
      "cell_type": "code",
      "execution_count": 76,
      "metadata": {
        "colab": {
          "base_uri": "https://localhost:8080/",
          "height": 133
        },
        "id": "t7oDSToGe1ey",
        "outputId": "f071f8b9-2c09-4c5f-8602-416a7a98795a"
      },
      "outputs": [
        {
          "output_type": "error",
          "ename": "SyntaxError",
          "evalue": "ignored",
          "traceback": [
            "\u001b[0;36m  File \u001b[0;32m\"<ipython-input-76-49892a0185ca>\"\u001b[0;36m, line \u001b[0;32m1\u001b[0m\n\u001b[0;31m    NAME = Mohini Khedekar\u001b[0m\n\u001b[0m                  ^\u001b[0m\n\u001b[0;31mSyntaxError\u001b[0m\u001b[0;31m:\u001b[0m invalid syntax\n"
          ]
        }
      ],
      "source": [
        "NAME = Mohini Khedekar\n",
        "COLLABORATORS = \"\""
      ]
    },
    {
      "cell_type": "markdown",
      "metadata": {
        "id": "xBZzKgZ0e1ez"
      },
      "source": [
        "---"
      ]
    },
    {
      "cell_type": "markdown",
      "metadata": {
        "id": "Uz08y1hze1ez"
      },
      "source": [
        "# Basic Folding Algorithm\n",
        "Keywords: pose_from_sequence(), random move, scoring move, Metropolis, assign(), Pose()"
      ]
    },
    {
      "cell_type": "code",
      "execution_count": 77,
      "metadata": {
        "colab": {
          "base_uri": "https://localhost:8080/"
        },
        "id": "OGYiufWRe1ez",
        "outputId": "d70332d1-d268-4332-a6a0-ba1594c0c6bf"
      },
      "outputs": [
        {
          "output_type": "stream",
          "name": "stdout",
          "text": [
            "Looking in indexes: https://pypi.org/simple, https://us-python.pkg.dev/colab-wheels/public/simple/\n",
            "Requirement already satisfied: pyrosettacolabsetup in /usr/local/lib/python3.10/dist-packages (1.0.6)\n",
            "PyRosetta-4 2023 [Rosetta PyRosetta4.MinSizeRel.python310.ubuntu 2023.19+release.d7aa7f94e8be5e9d5110d37f167c2a7afd30c530 2023-05-08T16:22:16] retrieved from: http://www.pyrosetta.org\n",
            "(C) Copyright Rosetta Commons Member Institutions. Created in JHU by Sergey Lyskov and PyRosetta Team.\n",
            "core.init: Checking for fconfig files in pwd and ./rosetta/flags\n",
            "core.init: Rosetta version: PyRosetta4.MinSizeRel.python310.ubuntu r348 2023.19+release.d7aa7f94e8b d7aa7f94e8be5e9d5110d37f167c2a7afd30c530 http://www.pyrosetta.org 2023-05-08T16:22:16\n",
            "core.init: command: PyRosetta -ex1 -ex2aro -database /usr/local/lib/python3.10/dist-packages/pyrosetta/database\n",
            "basic.random.init_random_generator: 'RNG device' seed mode, using '/dev/urandom', seed=-687167577 seed_offset=0 real_seed=-687167577\n",
            "basic.random.init_random_generator: RandomGenerator:init: Normal mode, seed=-687167577 RG_type=mt19937\n",
            "PyRosetta-4 2023 [Rosetta PyRosetta4.MinSizeRel.python310.ubuntu 2023.19+release.d7aa7f94e8be5e9d5110d37f167c2a7afd30c530 2023-05-08T16:22:16] retrieved from: http://www.pyrosetta.org\n",
            "(C) Copyright Rosetta Commons Member Institutions. Created in JHU by Sergey Lyskov and PyRosetta Team.\n",
            "core.init: Checking for fconfig files in pwd and ./rosetta/flags\n",
            "core.init: Rosetta version: PyRosetta4.MinSizeRel.python310.ubuntu r348 2023.19+release.d7aa7f94e8b d7aa7f94e8be5e9d5110d37f167c2a7afd30c530 http://www.pyrosetta.org 2023-05-08T16:22:16\n",
            "core.init: command: PyRosetta -ex1 -ex2aro -database /usr/local/lib/python3.10/dist-packages/pyrosetta/database\n",
            "basic.random.init_random_generator: 'RNG device' seed mode, using '/dev/urandom', seed=1005825868 seed_offset=0 real_seed=1005825868\n",
            "basic.random.init_random_generator: RandomGenerator:init: Normal mode, seed=1005825868 RG_type=mt19937\n"
          ]
        }
      ],
      "source": [
        "!pip install pyrosettacolabsetup\n",
        "import pyrosettacolabsetup; pyrosettacolabsetup.install_pyrosetta()\n",
        "import pyrosetta; pyrosetta.init()\n",
        "from pyrosetta import *\n",
        "from pyrosetta.teaching import *\n",
        "init()"
      ]
    },
    {
      "cell_type": "markdown",
      "metadata": {
        "id": "gumvFJOye1ez"
      },
      "source": [
        "## Building the Pose"
      ]
    },
    {
      "cell_type": "markdown",
      "metadata": {
        "id": "D0KUg3Poe1ez"
      },
      "source": [
        "In this lab, you will be folding a 10 residue protein by building a simple de novo folding algorithm. Start by initializing PyRosetta as usual."
      ]
    },
    {
      "cell_type": "markdown",
      "metadata": {
        "id": "QskCdR1oe1e0"
      },
      "source": [
        "Create a simple poly-alanine `pose` with 10 residues for testing your folding algorithm. Store the pose in a variable called \"polyA.\""
      ]
    },
    {
      "cell_type": "code",
      "execution_count": 78,
      "metadata": {
        "deletable": false,
        "nbgrader": {
          "cell_type": "code",
          "checksum": "dc92af4c84322c255ab2d1fc670a45d7",
          "grade": true,
          "grade_id": "cell-e4c1f7f4858d8ee4",
          "locked": false,
          "points": 0,
          "schema_version": 3,
          "solution": true
        },
        "id": "AeumesC8e1e0"
      },
      "outputs": [],
      "source": [
        "# YOUR CODE HERE\n",
        "polyA = pose_from_sequence('AAAAAAAAAA')\n",
        "\n",
        "polyA.pdb_info().name(\"polyA\")"
      ]
    },
    {
      "cell_type": "markdown",
      "metadata": {
        "id": "NNOkHtSse1e0"
      },
      "source": [
        "__Question:__\n",
        "Check the backbone dihedrals of a few residues (except the first and last) using the `.phi()` and `.psi()` methods in `Pose`. What are the values of $\\phi$ and $\\psi$ dihedrals? You should see ideal bond lengths and angles, but the dihedrals may not be as realistic."
      ]
    },
    {
      "cell_type": "code",
      "execution_count": 79,
      "metadata": {
        "deletable": false,
        "nbgrader": {
          "cell_type": "code",
          "checksum": "9739bef3d6136554ba0cecb4fa8344fb",
          "grade": true,
          "grade_id": "cell-8ff53305ceab1573",
          "locked": false,
          "points": 0,
          "schema_version": 3,
          "solution": true
        },
        "colab": {
          "base_uri": "https://localhost:8080/"
        },
        "id": "GJ-mkgnie1e0",
        "outputId": "6d6de824-ceba-42a7-a37a-e99523287a23"
      },
      "outputs": [
        {
          "output_type": "stream",
          "name": "stdout",
          "text": [
            "180.0\n",
            "180.0\n",
            "180.0\n",
            "180.0\n",
            "180.0\n",
            "180.0\n",
            "180.0\n",
            "180.0\n",
            "180.0\n",
            "180.0\n",
            "180.0\n",
            "180.0\n",
            "180.0\n",
            "180.0\n",
            "180.0\n",
            "180.0\n",
            "core.io.pdb.pdb_writer: [ ERROR ] StructFileRep::dump_pdb: Unable to open file:/content/google_drive/MyDrive/codeschool2023/dihedralanglesA10.pdb for writing!!!\n"
          ]
        },
        {
          "output_type": "execute_result",
          "data": {
            "text/plain": [
              "False"
            ]
          },
          "metadata": {},
          "execution_count": 79
        }
      ],
      "source": [
        "\n",
        "\n",
        "\n",
        "\n",
        "for i in range (2, 10):\n",
        "  print (polyA.phi(i))\n",
        "  print (polyA.psi(i))\n",
        "\n",
        "polyA.dump_pdb(\"/content/google_drive/MyDrive/codeschool2023/dihedralanglesA10.pdb\")"
      ]
    },
    {
      "cell_type": "markdown",
      "metadata": {
        "id": "wodiUM3Xe1e1"
      },
      "source": [
        "Use PyMOL to view the `polyA` `Pose`. You should see a long thread-like structure in PyMOL."
      ]
    },
    {
      "cell_type": "code",
      "execution_count": 80,
      "metadata": {
        "id": "OkBg4p8qe1e1"
      },
      "outputs": [],
      "source": [
        "# visualize the pose in PyMOL and save the screenshot to submit\n",
        "#screenshot saved in github"
      ]
    },
    {
      "cell_type": "markdown",
      "metadata": {
        "id": "dZzah0b3e1e1"
      },
      "source": [
        "## Building A Basic *de Novo* Folding Algorithm\n",
        "\n",
        "Now, write a program that implements a Monte Carlo algorithm to optimize the protein conformation. The algorithm will be very simple: make a random move, score the protein, and accept/reject the move based on the Metropolis criterion.\n",
        "\n",
        "Our main program will include 100 iterations of making a random trial move, scoring the protein, and accepting/rejecting the move. Therefore, we can break this algorithm down into three smaller subroutines: **random, score, and decision.**"
      ]
    },
    {
      "cell_type": "markdown",
      "metadata": {
        "id": "BPn24GTHe1e1"
      },
      "source": [
        "### Step 1: Random Move\n",
        "\n",
        "For the **random** trial move, write a subroutine to choose one residue at random using `random.randint()` and then randomly perturb either the φ or ψ angles by a random number chosen from a Gaussian distribution. Use the Python built-in function `random.gauss()` from the `random` library with a mean of the current angle and a standard deviation of 25°."
      ]
    },
    {
      "cell_type": "code",
      "execution_count": 81,
      "metadata": {
        "deletable": false,
        "nbgrader": {
          "cell_type": "code",
          "checksum": "c0e88c27592e4a00af92f92d6ddd12f4",
          "grade": true,
          "grade_id": "cell-745a45e62c624566",
          "locked": false,
          "points": 0,
          "schema_version": 3,
          "solution": true
        },
        "id": "u5bNvVbpe1e2"
      },
      "outputs": [],
      "source": [
        "import math\n",
        "import random\n",
        "\n",
        "\n",
        "def randTrial(pose):\n",
        "  randit = random.randint(1,len(pose.sequence()))\n",
        "  current_phi = pose.phi(randit)\n",
        "  new_phi = random.gauss(current_phi, 25)\n",
        "\n",
        "  pose.set_phi(randit, new_phi)\n",
        "  return pose\n",
        "\n",
        "\n"
      ]
    },
    {
      "cell_type": "markdown",
      "metadata": {
        "id": "rkONaw-Oe1e2"
      },
      "source": [
        "### Step 2: Scoring Move\n",
        "\n",
        "For the **scoring** step, we need to create a scoring function and make a subroutine that simply returns the numerical energy score of the pose."
      ]
    },
    {
      "cell_type": "code",
      "execution_count": 82,
      "metadata": {
        "deletable": false,
        "nbgrader": {
          "cell_type": "code",
          "checksum": "d8a586ebc3daa51b615abe7cc4777fad",
          "grade": true,
          "grade_id": "cell-bd1a937d32ede4e2",
          "locked": false,
          "points": 0,
          "schema_version": 3,
          "solution": true
        },
        "colab": {
          "base_uri": "https://localhost:8080/"
        },
        "id": "VPIWX_o1e1e2",
        "outputId": "1ba319f2-af58-42a7-b579-3250ed845ae5"
      },
      "outputs": [
        {
          "output_type": "stream",
          "name": "stdout",
          "text": [
            "core.scoring.ScoreFunctionFactory: SCOREFUNCTION: ref2015\n"
          ]
        },
        {
          "output_type": "execute_result",
          "data": {
            "text/plain": [
              "29.96724428561499"
            ]
          },
          "metadata": {},
          "execution_count": 82
        }
      ],
      "source": [
        "sfxn = get_fa_scorefxn()\n",
        "\n",
        "pose = polyA\n",
        "\n",
        "def score(pose):\n",
        "   return sfxn(pose)\n",
        "\n",
        "score(pose)"
      ]
    },
    {
      "cell_type": "markdown",
      "metadata": {
        "id": "jwTc89mNe1e2"
      },
      "source": [
        "### Step 3: Accepting/Rejecting Move\n",
        "For the **decision** step, we need to make a subroutine that either accepts or rejects the new conformatuon based on the Metropolis criterion. The Metropolis criterion has a probability of accepting a move as $P = \\exp( -\\Delta G / kT )$. When $ΔE ≥ 0$, the Metropolis criterion probability of accepting the move is $P = \\exp( -\\Delta G / kT )$. When $ΔE < 0$, the Metropolis criterion probability of accepting the move is $P = 1$. Use $kT = 1$ Rosetta Energy Unit (REU)."
      ]
    },
    {
      "cell_type": "markdown",
      "source": [],
      "metadata": {
        "id": "wGTOhZZZIJUn"
      }
    },
    {
      "cell_type": "code",
      "execution_count": 88,
      "metadata": {
        "deletable": false,
        "nbgrader": {
          "cell_type": "code",
          "checksum": "e379754cffceebdea48e26efae440f30",
          "grade": true,
          "grade_id": "cell-9f9766e421aae110",
          "locked": false,
          "points": 0,
          "schema_version": 3,
          "solution": true
        },
        "id": "ZcTmv1Ope1e3"
      },
      "outputs": [],
      "source": [
        "def decision(before_pose, after_pose):\n",
        "  \n",
        "  DE = score(after_pose)-score(before_pose)\n",
        "  if DE <= 0:\n",
        "    return after_pose\n",
        "\n",
        "  else:\n",
        "    P = math.exp(-DE)\n",
        "    x = random.random()\n",
        "    if x > P:\n",
        "      return before_pose\n",
        "\n",
        "    else:\n",
        "      return after_pose\n",
        "\n"
      ]
    },
    {
      "cell_type": "markdown",
      "metadata": {
        "id": "cUxuU5n3e1e3"
      },
      "source": [
        "### Step 4: Execution\n",
        "Now we can put these three subroutines together in our main program! Write a loop in the main program so that it performs 100 iterations of: making a random trial move, scoring the protein, and accepting/rejecting the move. \n",
        "\n",
        "After each iteration of the search, output the current pose energy and the lowest energy ever observed. **The final output of this program should be the lowest energy conformation that is achieved at *any* point during the simulation.** Be sure to use `low_pose.assign(pose)` rather than `low_pose = pose`, since the latter will only copy a pointer to the original pose."
      ]
    },
    {
      "cell_type": "code",
      "execution_count": 84,
      "metadata": {
        "deletable": false,
        "nbgrader": {
          "cell_type": "code",
          "checksum": "4cf2cc30dd328bf93da671c237e300a7",
          "grade": true,
          "grade_id": "cell-2556d0daef881f24",
          "locked": false,
          "points": 0,
          "schema_version": 3,
          "solution": true
        },
        "id": "yigDWsQXe1e3",
        "colab": {
          "base_uri": "https://localhost:8080/"
        },
        "outputId": "9da35435-34e3-444d-d842-38516ee2b29c"
      },
      "outputs": [
        {
          "output_type": "stream",
          "name": "stdout",
          "text": [
            "<class 'pyrosetta.rosetta.core.pose.Pose'>\n",
            "<class 'pyrosetta.rosetta.core.pose.Pose'>\n",
            "<class 'pyrosetta.rosetta.core.pose.Pose'>\n",
            "<class 'pyrosetta.rosetta.core.pose.Pose'>\n",
            "<class 'pyrosetta.rosetta.core.pose.Pose'>\n",
            "<class 'pyrosetta.rosetta.core.pose.Pose'>\n",
            "<class 'pyrosetta.rosetta.core.pose.Pose'>\n",
            "<class 'pyrosetta.rosetta.core.pose.Pose'>\n",
            "<class 'pyrosetta.rosetta.core.pose.Pose'>\n",
            "<class 'pyrosetta.rosetta.core.pose.Pose'>\n",
            "<class 'pyrosetta.rosetta.core.pose.Pose'>\n",
            "<class 'pyrosetta.rosetta.core.pose.Pose'>\n",
            "<class 'pyrosetta.rosetta.core.pose.Pose'>\n",
            "<class 'pyrosetta.rosetta.core.pose.Pose'>\n",
            "<class 'pyrosetta.rosetta.core.pose.Pose'>\n",
            "<class 'pyrosetta.rosetta.core.pose.Pose'>\n",
            "<class 'pyrosetta.rosetta.core.pose.Pose'>\n",
            "<class 'pyrosetta.rosetta.core.pose.Pose'>\n",
            "<class 'pyrosetta.rosetta.core.pose.Pose'>\n",
            "<class 'pyrosetta.rosetta.core.pose.Pose'>\n",
            "<class 'pyrosetta.rosetta.core.pose.Pose'>\n",
            "<class 'pyrosetta.rosetta.core.pose.Pose'>\n",
            "<class 'pyrosetta.rosetta.core.pose.Pose'>\n",
            "<class 'pyrosetta.rosetta.core.pose.Pose'>\n",
            "<class 'pyrosetta.rosetta.core.pose.Pose'>\n",
            "<class 'pyrosetta.rosetta.core.pose.Pose'>\n",
            "<class 'pyrosetta.rosetta.core.pose.Pose'>\n",
            "<class 'pyrosetta.rosetta.core.pose.Pose'>\n",
            "<class 'pyrosetta.rosetta.core.pose.Pose'>\n",
            "<class 'pyrosetta.rosetta.core.pose.Pose'>\n",
            "<class 'pyrosetta.rosetta.core.pose.Pose'>\n",
            "<class 'pyrosetta.rosetta.core.pose.Pose'>\n",
            "<class 'pyrosetta.rosetta.core.pose.Pose'>\n",
            "<class 'pyrosetta.rosetta.core.pose.Pose'>\n",
            "<class 'pyrosetta.rosetta.core.pose.Pose'>\n",
            "<class 'pyrosetta.rosetta.core.pose.Pose'>\n",
            "<class 'pyrosetta.rosetta.core.pose.Pose'>\n",
            "<class 'pyrosetta.rosetta.core.pose.Pose'>\n",
            "<class 'pyrosetta.rosetta.core.pose.Pose'>\n",
            "<class 'pyrosetta.rosetta.core.pose.Pose'>\n",
            "<class 'pyrosetta.rosetta.core.pose.Pose'>\n",
            "<class 'pyrosetta.rosetta.core.pose.Pose'>\n",
            "<class 'pyrosetta.rosetta.core.pose.Pose'>\n",
            "<class 'pyrosetta.rosetta.core.pose.Pose'>\n",
            "<class 'pyrosetta.rosetta.core.pose.Pose'>\n",
            "<class 'pyrosetta.rosetta.core.pose.Pose'>\n",
            "<class 'pyrosetta.rosetta.core.pose.Pose'>\n",
            "<class 'pyrosetta.rosetta.core.pose.Pose'>\n",
            "<class 'pyrosetta.rosetta.core.pose.Pose'>\n",
            "<class 'pyrosetta.rosetta.core.pose.Pose'>\n",
            "<class 'pyrosetta.rosetta.core.pose.Pose'>\n",
            "<class 'pyrosetta.rosetta.core.pose.Pose'>\n",
            "<class 'pyrosetta.rosetta.core.pose.Pose'>\n",
            "<class 'pyrosetta.rosetta.core.pose.Pose'>\n",
            "<class 'pyrosetta.rosetta.core.pose.Pose'>\n",
            "<class 'pyrosetta.rosetta.core.pose.Pose'>\n",
            "<class 'pyrosetta.rosetta.core.pose.Pose'>\n",
            "<class 'pyrosetta.rosetta.core.pose.Pose'>\n",
            "<class 'pyrosetta.rosetta.core.pose.Pose'>\n",
            "<class 'pyrosetta.rosetta.core.pose.Pose'>\n",
            "<class 'pyrosetta.rosetta.core.pose.Pose'>\n",
            "<class 'pyrosetta.rosetta.core.pose.Pose'>\n",
            "<class 'pyrosetta.rosetta.core.pose.Pose'>\n",
            "<class 'pyrosetta.rosetta.core.pose.Pose'>\n",
            "<class 'pyrosetta.rosetta.core.pose.Pose'>\n",
            "<class 'pyrosetta.rosetta.core.pose.Pose'>\n",
            "<class 'pyrosetta.rosetta.core.pose.Pose'>\n",
            "<class 'pyrosetta.rosetta.core.pose.Pose'>\n",
            "<class 'pyrosetta.rosetta.core.pose.Pose'>\n",
            "<class 'pyrosetta.rosetta.core.pose.Pose'>\n",
            "<class 'pyrosetta.rosetta.core.pose.Pose'>\n",
            "<class 'pyrosetta.rosetta.core.pose.Pose'>\n",
            "<class 'pyrosetta.rosetta.core.pose.Pose'>\n",
            "<class 'pyrosetta.rosetta.core.pose.Pose'>\n",
            "<class 'pyrosetta.rosetta.core.pose.Pose'>\n",
            "<class 'pyrosetta.rosetta.core.pose.Pose'>\n",
            "<class 'pyrosetta.rosetta.core.pose.Pose'>\n",
            "<class 'pyrosetta.rosetta.core.pose.Pose'>\n",
            "<class 'pyrosetta.rosetta.core.pose.Pose'>\n",
            "<class 'pyrosetta.rosetta.core.pose.Pose'>\n",
            "<class 'pyrosetta.rosetta.core.pose.Pose'>\n",
            "<class 'pyrosetta.rosetta.core.pose.Pose'>\n",
            "<class 'pyrosetta.rosetta.core.pose.Pose'>\n",
            "<class 'pyrosetta.rosetta.core.pose.Pose'>\n",
            "<class 'pyrosetta.rosetta.core.pose.Pose'>\n",
            "<class 'pyrosetta.rosetta.core.pose.Pose'>\n",
            "<class 'pyrosetta.rosetta.core.pose.Pose'>\n",
            "<class 'pyrosetta.rosetta.core.pose.Pose'>\n",
            "<class 'pyrosetta.rosetta.core.pose.Pose'>\n",
            "<class 'pyrosetta.rosetta.core.pose.Pose'>\n",
            "<class 'pyrosetta.rosetta.core.pose.Pose'>\n",
            "<class 'pyrosetta.rosetta.core.pose.Pose'>\n",
            "<class 'pyrosetta.rosetta.core.pose.Pose'>\n",
            "<class 'pyrosetta.rosetta.core.pose.Pose'>\n",
            "<class 'pyrosetta.rosetta.core.pose.Pose'>\n",
            "<class 'pyrosetta.rosetta.core.pose.Pose'>\n",
            "<class 'pyrosetta.rosetta.core.pose.Pose'>\n",
            "<class 'pyrosetta.rosetta.core.pose.Pose'>\n",
            "<class 'pyrosetta.rosetta.core.pose.Pose'>\n",
            "<class 'pyrosetta.rosetta.core.pose.Pose'>\n",
            "<class 'pyrosetta.rosetta.core.pose.Pose'>\n",
            "<class 'pyrosetta.rosetta.core.pose.Pose'>\n",
            "<class 'pyrosetta.rosetta.core.pose.Pose'>\n",
            "<class 'pyrosetta.rosetta.core.pose.Pose'>\n",
            "<class 'pyrosetta.rosetta.core.pose.Pose'>\n",
            "<class 'pyrosetta.rosetta.core.pose.Pose'>\n",
            "<class 'pyrosetta.rosetta.core.pose.Pose'>\n",
            "<class 'pyrosetta.rosetta.core.pose.Pose'>\n",
            "<class 'pyrosetta.rosetta.core.pose.Pose'>\n",
            "<class 'pyrosetta.rosetta.core.pose.Pose'>\n",
            "<class 'pyrosetta.rosetta.core.pose.Pose'>\n",
            "<class 'pyrosetta.rosetta.core.pose.Pose'>\n",
            "<class 'pyrosetta.rosetta.core.pose.Pose'>\n",
            "<class 'pyrosetta.rosetta.core.pose.Pose'>\n",
            "<class 'pyrosetta.rosetta.core.pose.Pose'>\n",
            "<class 'pyrosetta.rosetta.core.pose.Pose'>\n",
            "<class 'pyrosetta.rosetta.core.pose.Pose'>\n",
            "<class 'pyrosetta.rosetta.core.pose.Pose'>\n",
            "<class 'pyrosetta.rosetta.core.pose.Pose'>\n",
            "<class 'pyrosetta.rosetta.core.pose.Pose'>\n",
            "<class 'pyrosetta.rosetta.core.pose.Pose'>\n",
            "<class 'pyrosetta.rosetta.core.pose.Pose'>\n",
            "<class 'pyrosetta.rosetta.core.pose.Pose'>\n",
            "<class 'pyrosetta.rosetta.core.pose.Pose'>\n",
            "<class 'pyrosetta.rosetta.core.pose.Pose'>\n",
            "<class 'pyrosetta.rosetta.core.pose.Pose'>\n",
            "<class 'pyrosetta.rosetta.core.pose.Pose'>\n",
            "<class 'pyrosetta.rosetta.core.pose.Pose'>\n",
            "<class 'pyrosetta.rosetta.core.pose.Pose'>\n",
            "<class 'pyrosetta.rosetta.core.pose.Pose'>\n",
            "<class 'pyrosetta.rosetta.core.pose.Pose'>\n",
            "<class 'pyrosetta.rosetta.core.pose.Pose'>\n",
            "<class 'pyrosetta.rosetta.core.pose.Pose'>\n",
            "<class 'pyrosetta.rosetta.core.pose.Pose'>\n",
            "<class 'pyrosetta.rosetta.core.pose.Pose'>\n",
            "<class 'pyrosetta.rosetta.core.pose.Pose'>\n",
            "<class 'pyrosetta.rosetta.core.pose.Pose'>\n",
            "<class 'pyrosetta.rosetta.core.pose.Pose'>\n",
            "<class 'pyrosetta.rosetta.core.pose.Pose'>\n",
            "<class 'pyrosetta.rosetta.core.pose.Pose'>\n",
            "<class 'pyrosetta.rosetta.core.pose.Pose'>\n",
            "<class 'pyrosetta.rosetta.core.pose.Pose'>\n",
            "<class 'pyrosetta.rosetta.core.pose.Pose'>\n",
            "<class 'pyrosetta.rosetta.core.pose.Pose'>\n",
            "<class 'pyrosetta.rosetta.core.pose.Pose'>\n",
            "<class 'pyrosetta.rosetta.core.pose.Pose'>\n",
            "<class 'pyrosetta.rosetta.core.pose.Pose'>\n",
            "<class 'pyrosetta.rosetta.core.pose.Pose'>\n",
            "<class 'pyrosetta.rosetta.core.pose.Pose'>\n",
            "<class 'pyrosetta.rosetta.core.pose.Pose'>\n",
            "<class 'pyrosetta.rosetta.core.pose.Pose'>\n",
            "<class 'pyrosetta.rosetta.core.pose.Pose'>\n",
            "<class 'pyrosetta.rosetta.core.pose.Pose'>\n",
            "<class 'pyrosetta.rosetta.core.pose.Pose'>\n",
            "<class 'pyrosetta.rosetta.core.pose.Pose'>\n",
            "<class 'pyrosetta.rosetta.core.pose.Pose'>\n",
            "<class 'pyrosetta.rosetta.core.pose.Pose'>\n",
            "<class 'pyrosetta.rosetta.core.pose.Pose'>\n",
            "<class 'pyrosetta.rosetta.core.pose.Pose'>\n",
            "<class 'pyrosetta.rosetta.core.pose.Pose'>\n",
            "<class 'pyrosetta.rosetta.core.pose.Pose'>\n",
            "<class 'pyrosetta.rosetta.core.pose.Pose'>\n",
            "<class 'pyrosetta.rosetta.core.pose.Pose'>\n",
            "<class 'pyrosetta.rosetta.core.pose.Pose'>\n",
            "<class 'pyrosetta.rosetta.core.pose.Pose'>\n",
            "<class 'pyrosetta.rosetta.core.pose.Pose'>\n",
            "<class 'pyrosetta.rosetta.core.pose.Pose'>\n",
            "<class 'pyrosetta.rosetta.core.pose.Pose'>\n",
            "<class 'pyrosetta.rosetta.core.pose.Pose'>\n",
            "<class 'pyrosetta.rosetta.core.pose.Pose'>\n",
            "<class 'pyrosetta.rosetta.core.pose.Pose'>\n",
            "<class 'pyrosetta.rosetta.core.pose.Pose'>\n",
            "<class 'pyrosetta.rosetta.core.pose.Pose'>\n",
            "<class 'pyrosetta.rosetta.core.pose.Pose'>\n",
            "<class 'pyrosetta.rosetta.core.pose.Pose'>\n",
            "<class 'pyrosetta.rosetta.core.pose.Pose'>\n",
            "<class 'pyrosetta.rosetta.core.pose.Pose'>\n",
            "<class 'pyrosetta.rosetta.core.pose.Pose'>\n",
            "<class 'pyrosetta.rosetta.core.pose.Pose'>\n",
            "<class 'pyrosetta.rosetta.core.pose.Pose'>\n",
            "<class 'pyrosetta.rosetta.core.pose.Pose'>\n",
            "<class 'pyrosetta.rosetta.core.pose.Pose'>\n",
            "<class 'pyrosetta.rosetta.core.pose.Pose'>\n",
            "<class 'pyrosetta.rosetta.core.pose.Pose'>\n",
            "<class 'pyrosetta.rosetta.core.pose.Pose'>\n",
            "<class 'pyrosetta.rosetta.core.pose.Pose'>\n",
            "<class 'pyrosetta.rosetta.core.pose.Pose'>\n",
            "<class 'pyrosetta.rosetta.core.pose.Pose'>\n",
            "<class 'pyrosetta.rosetta.core.pose.Pose'>\n",
            "<class 'pyrosetta.rosetta.core.pose.Pose'>\n",
            "<class 'pyrosetta.rosetta.core.pose.Pose'>\n",
            "<class 'pyrosetta.rosetta.core.pose.Pose'>\n",
            "<class 'pyrosetta.rosetta.core.pose.Pose'>\n",
            "<class 'pyrosetta.rosetta.core.pose.Pose'>\n",
            "<class 'pyrosetta.rosetta.core.pose.Pose'>\n",
            "<class 'pyrosetta.rosetta.core.pose.Pose'>\n",
            "<class 'pyrosetta.rosetta.core.pose.Pose'>\n",
            "<class 'pyrosetta.rosetta.core.pose.Pose'>\n",
            "<class 'pyrosetta.rosetta.core.pose.Pose'>\n",
            "<class 'pyrosetta.rosetta.core.pose.Pose'>\n",
            "core.io.pdb.pdb_writer: [ ERROR ] StructFileRep::dump_pdb: Unable to open file:/content/google_drive/MyDrive/codeschool2023/lowestenergy2.pdb for writing!!!\n"
          ]
        },
        {
          "output_type": "execute_result",
          "data": {
            "text/plain": [
              "False"
            ]
          },
          "metadata": {},
          "execution_count": 84
        }
      ],
      "source": [
        "def basic_folding(your_pose):\n",
        "    \"\"\"Your basic folding algorithm that completes 100 Monte-Carlo iterations on a given pose\"\"\"\n",
        "    low_pose = Pose()\n",
        "\n",
        "    \n",
        "    \n",
        "    for i in range(100):\n",
        "      if i == 0:\n",
        "        low_pose.assign(your_pose)\n",
        "      \n",
        "    #in the code above, we are saying that our first iteration is going to be our lowest pose \n",
        "      \n",
        "      before_pose = Pose()\n",
        "      before_pose.assign(your_pose)\n",
        "\n",
        "      after_pose = Pose()\n",
        "      after_pose.assign(randTrial(your_pose))\n",
        "      #in the code above, we are randomly making mutations and finding the score\n",
        "\n",
        "      your_pose.assign(decision(before_pose, after_pose))\n",
        "      #we are constantly updating your_pose\n",
        "\n",
        "\n",
        "      if score(your_pose)>score(low_pose):\n",
        "        low_pose.assign(your_pose)\n",
        "\n",
        "\n",
        "    return low_pose\n",
        "\n",
        "lowest_pose = Pose()\n",
        "lowest_pose = basic_folding(pose)\n",
        "\n",
        "lowest_pose.dump_pdb(\"/content/google_drive/MyDrive/codeschool2023/lowestenergy2.pdb\")"
      ]
    },
    {
      "cell_type": "code",
      "source": [
        "from google.colab import drive\n",
        "drive.mount('/content/drive')"
      ],
      "metadata": {
        "id": "fBBEsKUvYDZ-",
        "colab": {
          "base_uri": "https://localhost:8080/"
        },
        "outputId": "2573a7b3-d969-445d-88cb-a7797746ea6e"
      },
      "execution_count": 85,
      "outputs": [
        {
          "output_type": "stream",
          "name": "stdout",
          "text": [
            "Drive already mounted at /content/drive; to attempt to forcibly remount, call drive.mount(\"/content/drive\", force_remount=True).\n"
          ]
        }
      ]
    },
    {
      "cell_type": "markdown",
      "metadata": {
        "id": "oHxeQprXe1e3"
      },
      "source": [
        "Finally, output the last pose and the lowest-scoring pose observed and view them in PyMOL (you'll need to dump the pose into a new pdb for this). Submit a screenshot of this.\n",
        "\n",
        "Plot the energy and lowest-energy observed vs. cycle number. What are the energies of the initial, last, and lowest-scoring pose? Is your program working? Has it converged to a good solution?\n"
      ]
    },
    {
      "cell_type": "code",
      "source": [
        "#making a plot for the energy\n",
        "\n",
        "current_energy_list = []\n",
        "lowest_energy_list = []\n",
        "cycle_list = []\n",
        "\n",
        "def basic_folding(your_pose):\n",
        "    \"\"\"Your basic folding algorithm that completes 100 Monte-Carlo iterations on a given pose\"\"\"\n",
        "    low_pose = Pose()\n",
        "\n",
        "    for i in range(100):\n",
        "      if i == 0:\n",
        "        low_pose.assign(your_pose)\n",
        "      \n",
        "    #in the code above, we are saying that our first iteration is going to be our lowest pose \n",
        "      \n",
        "      before_pose = Pose()\n",
        "      before_pose.assign(your_pose)\n",
        "\n",
        "      after_pose = Pose()\n",
        "      after_pose.assign(randTrial(your_pose))\n",
        "      #in the code above, we are randomly making mutations and finding the score\n",
        "      \n",
        "\n",
        "      your_pose.assign(decision(before_pose,after_pose))\n",
        "      #we are constantly updating your_pose\n",
        "\n",
        "\n",
        "      if score(your_pose)<score(low_pose):\n",
        "        low_pose.assign(your_pose)\n",
        "      lowest_energy_list.append(score(low_pose))\n",
        "      current_energy_list.append(score(your_pose))\n",
        "      #it should be inside the for loop \n",
        "\n",
        "    print(lowest_energy_list)\n",
        "    return [low_pose, lowest_energy_list, current_energy_list]\n",
        "\n",
        "lowest_pose = Pose()\n",
        "array = basic_folding(pose)\n",
        "lowest_pose= array[0]\n",
        "\n",
        "import matplotlib\n",
        "import matplotlib.pyplot as plt\n",
        "\n",
        "x_coords = range(0,100)\n",
        "y_coords = array[1]\n",
        "print(x_coords)\n",
        "print(y_coords)\n",
        "plt.scatter(x_coords, y_coords)\n",
        "plt.xlabel(\"cycle number\")\n",
        "plt.ylabel(\"lowest energy\")"
      ],
      "metadata": {
        "id": "1c-YbOEncZpQ",
        "outputId": "65523780-a285-4525-888c-86b99c9b1176",
        "colab": {
          "base_uri": "https://localhost:8080/",
          "height": 540
        }
      },
      "execution_count": 93,
      "outputs": [
        {
          "output_type": "stream",
          "name": "stdout",
          "text": [
            "[17.662777030374823, 17.662777030374823, 17.607889667786118, 17.607889667786118, 17.607889667786118, 17.607889667786118, 17.607889667786118, 17.607889667786118, 17.607889667786118, 17.607889667786118, 17.607889667786118, 17.607889667786118, 17.607889667786118, 17.607889667786118, 17.607889667786118, 17.607889667786118, 17.607889667786118, 17.607889667786118, 17.607889667786118, 17.607889667786118, 17.607889667786118, 17.607889667786118, 17.607889667786118, 17.607889667786118, 17.607889667786118, 17.607889667786118, 17.607889667786118, 17.607889667786118, 17.607889667786118, 17.607889667786118, 17.607889667786118, 17.607889667786118, 17.607889667786118, 17.607889667786118, 17.607889667786118, 17.607889667786118, 17.607889667786118, 17.607889667786118, 17.607889667786118, 17.607889667786118, 17.607889667786118, 17.607889667786118, 17.607889667786118, 17.607889667786118, 17.607889667786118, 17.607889667786118, 17.607889667786118, 17.607889667786118, 17.607889667786118, 17.607889667786118, 17.607889667786118, 17.607889667786118, 17.607889667786118, 17.607889667786118, 17.607889667786118, 17.607889667786118, 17.607889667786118, 17.607889667786118, 17.607889667786118, 17.607889667786118, 17.607889667786118, 17.607889667786118, 17.607889667786118, 17.607889667786118, 17.607889667786118, 17.607889667786118, 17.607889667786118, 17.607889667786118, 17.607889667786118, 17.607889667786118, 17.607889667786118, 17.607889667786118, 17.607889667786118, 17.607889667786118, 17.607889667786118, 17.607889667786118, 17.607889667786118, 17.607889667786118, 17.607889667786118, 17.607889667786118, 17.607889667786118, 17.607889667786118, 17.607889667786118, 17.607889667786118, 17.607889667786118, 17.607889667786118, 17.607889667786118, 17.607889667786118, 17.607889667786118, 17.607889667786118, 17.557145615622204, 17.557145615622204, 17.557145615622204, 17.557145615622204, 17.557145615622204, 17.557145615622204, 17.557145615622204, 17.557145615622204, 17.557145615622204, 17.557145615622204]\n",
            "range(0, 100)\n",
            "[17.662777030374823, 17.662777030374823, 17.607889667786118, 17.607889667786118, 17.607889667786118, 17.607889667786118, 17.607889667786118, 17.607889667786118, 17.607889667786118, 17.607889667786118, 17.607889667786118, 17.607889667786118, 17.607889667786118, 17.607889667786118, 17.607889667786118, 17.607889667786118, 17.607889667786118, 17.607889667786118, 17.607889667786118, 17.607889667786118, 17.607889667786118, 17.607889667786118, 17.607889667786118, 17.607889667786118, 17.607889667786118, 17.607889667786118, 17.607889667786118, 17.607889667786118, 17.607889667786118, 17.607889667786118, 17.607889667786118, 17.607889667786118, 17.607889667786118, 17.607889667786118, 17.607889667786118, 17.607889667786118, 17.607889667786118, 17.607889667786118, 17.607889667786118, 17.607889667786118, 17.607889667786118, 17.607889667786118, 17.607889667786118, 17.607889667786118, 17.607889667786118, 17.607889667786118, 17.607889667786118, 17.607889667786118, 17.607889667786118, 17.607889667786118, 17.607889667786118, 17.607889667786118, 17.607889667786118, 17.607889667786118, 17.607889667786118, 17.607889667786118, 17.607889667786118, 17.607889667786118, 17.607889667786118, 17.607889667786118, 17.607889667786118, 17.607889667786118, 17.607889667786118, 17.607889667786118, 17.607889667786118, 17.607889667786118, 17.607889667786118, 17.607889667786118, 17.607889667786118, 17.607889667786118, 17.607889667786118, 17.607889667786118, 17.607889667786118, 17.607889667786118, 17.607889667786118, 17.607889667786118, 17.607889667786118, 17.607889667786118, 17.607889667786118, 17.607889667786118, 17.607889667786118, 17.607889667786118, 17.607889667786118, 17.607889667786118, 17.607889667786118, 17.607889667786118, 17.607889667786118, 17.607889667786118, 17.607889667786118, 17.607889667786118, 17.557145615622204, 17.557145615622204, 17.557145615622204, 17.557145615622204, 17.557145615622204, 17.557145615622204, 17.557145615622204, 17.557145615622204, 17.557145615622204, 17.557145615622204]\n"
          ]
        },
        {
          "output_type": "execute_result",
          "data": {
            "text/plain": [
              "Text(0, 0.5, 'lowest energy')"
            ]
          },
          "metadata": {},
          "execution_count": 93
        },
        {
          "output_type": "display_data",
          "data": {
            "text/plain": [
              "<Figure size 640x480 with 1 Axes>"
            ],
            "image/png": "[encoded data removed]"
          },
          "metadata": {}
        }
      ]
    },
    {
      "cell_type": "code",
      "execution_count": 94,
      "metadata": {
        "colab": {
          "base_uri": "https://localhost:8080/"
        },
        "id": "qqUY_YIve1e3",
        "outputId": "3be671d6-0cab-43de-a097-ce5a13bf5de9"
      },
      "outputs": [
        {
          "output_type": "stream",
          "name": "stdout",
          "text": [
            "[17.662777030374823, 17.662777030374823, 17.607889667786118, 17.607889667786118, 17.607889667786118, 17.607889667786118, 17.607889667786118, 17.607889667786118, 17.607889667786118, 17.607889667786118, 17.607889667786118, 17.607889667786118, 17.607889667786118, 17.607889667786118, 17.607889667786118, 17.607889667786118, 17.607889667786118, 17.607889667786118, 17.607889667786118, 17.607889667786118, 17.607889667786118, 17.607889667786118, 17.607889667786118, 17.607889667786118, 17.607889667786118, 17.607889667786118, 17.607889667786118, 17.607889667786118, 17.607889667786118, 17.607889667786118, 17.607889667786118, 17.607889667786118, 17.607889667786118, 17.607889667786118, 17.607889667786118, 17.607889667786118, 17.607889667786118, 17.607889667786118, 17.607889667786118, 17.607889667786118, 17.607889667786118, 17.607889667786118, 17.607889667786118, 17.607889667786118, 17.607889667786118, 17.607889667786118, 17.607889667786118, 17.607889667786118, 17.607889667786118, 17.607889667786118, 17.607889667786118, 17.607889667786118, 17.607889667786118, 17.607889667786118, 17.607889667786118, 17.607889667786118, 17.607889667786118, 17.607889667786118, 17.607889667786118, 17.607889667786118, 17.607889667786118, 17.607889667786118, 17.607889667786118, 17.607889667786118, 17.607889667786118, 17.607889667786118, 17.607889667786118, 17.607889667786118, 17.607889667786118, 17.607889667786118, 17.607889667786118, 17.607889667786118, 17.607889667786118, 17.607889667786118, 17.607889667786118, 17.607889667786118, 17.607889667786118, 17.607889667786118, 17.607889667786118, 17.607889667786118, 17.607889667786118, 17.607889667786118, 17.607889667786118, 17.607889667786118, 17.607889667786118, 17.607889667786118, 17.607889667786118, 17.607889667786118, 17.607889667786118, 17.607889667786118, 17.557145615622204, 17.557145615622204, 17.557145615622204, 17.557145615622204, 17.557145615622204, 17.557145615622204, 17.557145615622204, 17.557145615622204, 17.557145615622204, 17.557145615622204, 19.26519337230859, 19.26519337230859, 19.26519337230859, 19.26519337230859, 18.965542774196045, 18.965542774196045, 18.965542774196045, 18.965542774196045, 18.965542774196045, 18.965542774196045, 18.965542774196045, 18.965542774196045, 18.965542774196045, 18.965542774196045, 18.965542774196045, 18.965542774196045, 18.965542774196045, 18.965542774196045, 18.965542774196045, 18.965542774196045, 18.965542774196045, 18.965542774196045, 18.965542774196045, 18.965542774196045, 18.965542774196045, 18.96411689794921, 18.898504282172595, 18.898504282172595, 18.898504282172595, 18.898504282172595, 18.898504282172595, 18.898504282172595, 18.898504282172595, 18.898504282172595, 18.898504282172595, 18.898504282172595, 17.83062310061034, 17.83062310061034, 17.83062310061034, 17.83062310061034, 17.83062310061034, 17.83062310061034, 16.545919526172614, 16.522979341190364, 16.522979341190364, 16.522979341190364, 16.522979341190364, 16.522979341190364, 16.522979341190364, 16.522979341190364, 16.522979341190364, 16.522979341190364, 16.522979341190364, 16.522979341190364, 16.522979341190364, 16.522979341190364, 16.522979341190364, 16.522979341190364, 16.522979341190364, 16.522979341190364, 16.522979341190364, 16.522979341190364, 16.522979341190364, 16.522979341190364, 16.522979341190364, 16.522979341190364, 16.522979341190364, 16.522979341190364, 16.522979341190364, 16.522979341190364, 16.522979341190364, 16.522979341190364, 16.522979341190364, 16.522979341190364, 16.522979341190364, 16.522979341190364, 16.522979341190364, 16.522979341190364, 16.522979341190364, 16.522979341190364, 16.522979341190364, 16.522979341190364, 16.522979341190364, 16.522979341190364, 16.522979341190364, 16.522979341190364, 16.522979341190364, 16.522979341190364, 16.522979341190364, 16.522979341190364, 16.522979341190364, 16.522979341190364, 16.522979341190364, 16.522979341190364, 16.522979341190364, 16.522979341190364, 16.522979341190364, 16.522979341190364, 16.522979341190364, 16.522979341190364]\n"
          ]
        },
        {
          "output_type": "execute_result",
          "data": {
            "text/plain": [
              "[<pyrosetta.rosetta.core.pose.Pose at 0x7f6d953bc730>,\n",
              " [17.662777030374823,\n",
              "  17.662777030374823,\n",
              "  17.607889667786118,\n",
              "  17.607889667786118,\n",
              "  17.607889667786118,\n",
              "  17.607889667786118,\n",
              "  17.607889667786118,\n",
              "  17.607889667786118,\n",
              "  17.607889667786118,\n",
              "  17.607889667786118,\n",
              "  17.607889667786118,\n",
              "  17.607889667786118,\n",
              "  17.607889667786118,\n",
              "  17.607889667786118,\n",
              "  17.607889667786118,\n",
              "  17.607889667786118,\n",
              "  17.607889667786118,\n",
              "  17.607889667786118,\n",
              "  17.607889667786118,\n",
              "  17.607889667786118,\n",
              "  17.607889667786118,\n",
              "  17.607889667786118,\n",
              "  17.607889667786118,\n",
              "  17.607889667786118,\n",
              "  17.607889667786118,\n",
              "  17.607889667786118,\n",
              "  17.607889667786118,\n",
              "  17.607889667786118,\n",
              "  17.607889667786118,\n",
              "  17.607889667786118,\n",
              "  17.607889667786118,\n",
              "  17.607889667786118,\n",
              "  17.607889667786118,\n",
              "  17.607889667786118,\n",
              "  17.607889667786118,\n",
              "  17.607889667786118,\n",
              "  17.607889667786118,\n",
              "  17.607889667786118,\n",
              "  17.607889667786118,\n",
              "  17.607889667786118,\n",
              "  17.607889667786118,\n",
              "  17.607889667786118,\n",
              "  17.607889667786118,\n",
              "  17.607889667786118,\n",
              "  17.607889667786118,\n",
              "  17.607889667786118,\n",
              "  17.607889667786118,\n",
              "  17.607889667786118,\n",
              "  17.607889667786118,\n",
              "  17.607889667786118,\n",
              "  17.607889667786118,\n",
              "  17.607889667786118,\n",
              "  17.607889667786118,\n",
              "  17.607889667786118,\n",
              "  17.607889667786118,\n",
              "  17.607889667786118,\n",
              "  17.607889667786118,\n",
              "  17.607889667786118,\n",
              "  17.607889667786118,\n",
              "  17.607889667786118,\n",
              "  17.607889667786118,\n",
              "  17.607889667786118,\n",
              "  17.607889667786118,\n",
              "  17.607889667786118,\n",
              "  17.607889667786118,\n",
              "  17.607889667786118,\n",
              "  17.607889667786118,\n",
              "  17.607889667786118,\n",
              "  17.607889667786118,\n",
              "  17.607889667786118,\n",
              "  17.607889667786118,\n",
              "  17.607889667786118,\n",
              "  17.607889667786118,\n",
              "  17.607889667786118,\n",
              "  17.607889667786118,\n",
              "  17.607889667786118,\n",
              "  17.607889667786118,\n",
              "  17.607889667786118,\n",
              "  17.607889667786118,\n",
              "  17.607889667786118,\n",
              "  17.607889667786118,\n",
              "  17.607889667786118,\n",
              "  17.607889667786118,\n",
              "  17.607889667786118,\n",
              "  17.607889667786118,\n",
              "  17.607889667786118,\n",
              "  17.607889667786118,\n",
              "  17.607889667786118,\n",
              "  17.607889667786118,\n",
              "  17.607889667786118,\n",
              "  17.557145615622204,\n",
              "  17.557145615622204,\n",
              "  17.557145615622204,\n",
              "  17.557145615622204,\n",
              "  17.557145615622204,\n",
              "  17.557145615622204,\n",
              "  17.557145615622204,\n",
              "  17.557145615622204,\n",
              "  17.557145615622204,\n",
              "  17.557145615622204,\n",
              "  19.26519337230859,\n",
              "  19.26519337230859,\n",
              "  19.26519337230859,\n",
              "  19.26519337230859,\n",
              "  18.965542774196045,\n",
              "  18.965542774196045,\n",
              "  18.965542774196045,\n",
              "  18.965542774196045,\n",
              "  18.965542774196045,\n",
              "  18.965542774196045,\n",
              "  18.965542774196045,\n",
              "  18.965542774196045,\n",
              "  18.965542774196045,\n",
              "  18.965542774196045,\n",
              "  18.965542774196045,\n",
              "  18.965542774196045,\n",
              "  18.965542774196045,\n",
              "  18.965542774196045,\n",
              "  18.965542774196045,\n",
              "  18.965542774196045,\n",
              "  18.965542774196045,\n",
              "  18.965542774196045,\n",
              "  18.965542774196045,\n",
              "  18.965542774196045,\n",
              "  18.965542774196045,\n",
              "  18.96411689794921,\n",
              "  18.898504282172595,\n",
              "  18.898504282172595,\n",
              "  18.898504282172595,\n",
              "  18.898504282172595,\n",
              "  18.898504282172595,\n",
              "  18.898504282172595,\n",
              "  18.898504282172595,\n",
              "  18.898504282172595,\n",
              "  18.898504282172595,\n",
              "  18.898504282172595,\n",
              "  17.83062310061034,\n",
              "  17.83062310061034,\n",
              "  17.83062310061034,\n",
              "  17.83062310061034,\n",
              "  17.83062310061034,\n",
              "  17.83062310061034,\n",
              "  16.545919526172614,\n",
              "  16.522979341190364,\n",
              "  16.522979341190364,\n",
              "  16.522979341190364,\n",
              "  16.522979341190364,\n",
              "  16.522979341190364,\n",
              "  16.522979341190364,\n",
              "  16.522979341190364,\n",
              "  16.522979341190364,\n",
              "  16.522979341190364,\n",
              "  16.522979341190364,\n",
              "  16.522979341190364,\n",
              "  16.522979341190364,\n",
              "  16.522979341190364,\n",
              "  16.522979341190364,\n",
              "  16.522979341190364,\n",
              "  16.522979341190364,\n",
              "  16.522979341190364,\n",
              "  16.522979341190364,\n",
              "  16.522979341190364,\n",
              "  16.522979341190364,\n",
              "  16.522979341190364,\n",
              "  16.522979341190364,\n",
              "  16.522979341190364,\n",
              "  16.522979341190364,\n",
              "  16.522979341190364,\n",
              "  16.522979341190364,\n",
              "  16.522979341190364,\n",
              "  16.522979341190364,\n",
              "  16.522979341190364,\n",
              "  16.522979341190364,\n",
              "  16.522979341190364,\n",
              "  16.522979341190364,\n",
              "  16.522979341190364,\n",
              "  16.522979341190364,\n",
              "  16.522979341190364,\n",
              "  16.522979341190364,\n",
              "  16.522979341190364,\n",
              "  16.522979341190364,\n",
              "  16.522979341190364,\n",
              "  16.522979341190364,\n",
              "  16.522979341190364,\n",
              "  16.522979341190364,\n",
              "  16.522979341190364,\n",
              "  16.522979341190364,\n",
              "  16.522979341190364,\n",
              "  16.522979341190364,\n",
              "  16.522979341190364,\n",
              "  16.522979341190364,\n",
              "  16.522979341190364,\n",
              "  16.522979341190364,\n",
              "  16.522979341190364,\n",
              "  16.522979341190364,\n",
              "  16.522979341190364,\n",
              "  16.522979341190364,\n",
              "  16.522979341190364,\n",
              "  16.522979341190364,\n",
              "  16.522979341190364],\n",
              " [17.814943904428958,\n",
              "  17.77602866708837,\n",
              "  17.607889667786118,\n",
              "  17.607889667786118,\n",
              "  18.55065799756058,\n",
              "  18.354238313421583,\n",
              "  18.354238313421583,\n",
              "  18.354238313421583,\n",
              "  18.354238313421583,\n",
              "  18.45263523451687,\n",
              "  18.40023539815173,\n",
              "  18.40023539815173,\n",
              "  18.256347031378805,\n",
              "  18.4849773947156,\n",
              "  18.4849773947156,\n",
              "  18.73348357303655,\n",
              "  18.73348357303655,\n",
              "  18.804380443429036,\n",
              "  18.719057464719338,\n",
              "  18.57935420492798,\n",
              "  18.57935420492798,\n",
              "  18.721503488981117,\n",
              "  18.721503488981117,\n",
              "  18.22355440896513,\n",
              "  18.22355440896513,\n",
              "  18.22355440896513,\n",
              "  18.22355440896513,\n",
              "  18.22355440896513,\n",
              "  18.726950177756603,\n",
              "  18.5099397753003,\n",
              "  18.600931354903544,\n",
              "  18.529184392798665,\n",
              "  18.53927966923476,\n",
              "  18.53927966923476,\n",
              "  18.53927966923476,\n",
              "  19.163155789381495,\n",
              "  19.02543159841461,\n",
              "  18.98664577324575,\n",
              "  18.98664577324575,\n",
              "  19.243632709142453,\n",
              "  19.243632709142453,\n",
              "  19.243632709142453,\n",
              "  19.243632709142453,\n",
              "  19.209437118596632,\n",
              "  19.209437118596632,\n",
              "  19.54116340723782,\n",
              "  19.54116340723782,\n",
              "  19.250872869590328,\n",
              "  19.250872869590328,\n",
              "  19.250872869590328,\n",
              "  19.250872869590328,\n",
              "  19.250872869590328,\n",
              "  19.337892543291712,\n",
              "  19.417887625279292,\n",
              "  19.417887625279292,\n",
              "  19.41774626741831,\n",
              "  19.41774626741831,\n",
              "  19.502469773247533,\n",
              "  19.76602248795723,\n",
              "  19.76602248795723,\n",
              "  19.76602248795723,\n",
              "  19.70424504089017,\n",
              "  19.5293035791074,\n",
              "  19.5293035791074,\n",
              "  19.5293035791074,\n",
              "  19.742819406273735,\n",
              "  19.742819406273735,\n",
              "  19.742819406273735,\n",
              "  19.168425672718843,\n",
              "  19.168425672718843,\n",
              "  19.168425672718843,\n",
              "  19.168425672718843,\n",
              "  19.168425672718843,\n",
              "  18.595368209307516,\n",
              "  18.595368209307516,\n",
              "  18.363713966279164,\n",
              "  18.632143071050766,\n",
              "  18.632143071050766,\n",
              "  18.516515315290636,\n",
              "  18.814402047452965,\n",
              "  18.52030162805128,\n",
              "  18.52030162805128,\n",
              "  18.250918252615246,\n",
              "  18.500338976099975,\n",
              "  18.032519638179274,\n",
              "  18.032519638179274,\n",
              "  18.032519638179274,\n",
              "  18.032519638179274,\n",
              "  17.62545598875797,\n",
              "  17.65652349091259,\n",
              "  17.5571456156222,\n",
              "  17.5571456156222,\n",
              "  18.236876411524023,\n",
              "  19.126745361152913,\n",
              "  19.126745361152913,\n",
              "  19.126745361152913,\n",
              "  19.126745361152913,\n",
              "  19.177201328493826,\n",
              "  19.177201328493826,\n",
              "  19.26519337230859,\n",
              "  19.316835284789054,\n",
              "  19.316835284789054,\n",
              "  19.316573611145692,\n",
              "  19.316573611145692,\n",
              "  18.965542774196045,\n",
              "  18.972921783952064,\n",
              "  18.972921783952064,\n",
              "  19.693868678562783,\n",
              "  19.693868678562783,\n",
              "  19.693868678562783,\n",
              "  19.693868678562783,\n",
              "  19.690637137026528,\n",
              "  20.04173601699004,\n",
              "  20.04173601699004,\n",
              "  20.04173601699004,\n",
              "  20.04173601699004,\n",
              "  20.084890223407218,\n",
              "  20.069360298854043,\n",
              "  20.06561740103774,\n",
              "  19.691369448065913,\n",
              "  19.691369448065913,\n",
              "  19.691369448065913,\n",
              "  19.691369448065913,\n",
              "  19.691369448065913,\n",
              "  19.077014687504878,\n",
              "  18.96411689794921,\n",
              "  18.898504282172595,\n",
              "  18.898504282172595,\n",
              "  18.898504282172595,\n",
              "  18.898504282172595,\n",
              "  19.025604025553637,\n",
              "  19.025604025553637,\n",
              "  19.025604025553637,\n",
              "  19.549768653670213,\n",
              "  19.805221524273062,\n",
              "  19.007651631246397,\n",
              "  17.83062310061034,\n",
              "  17.83062310061034,\n",
              "  17.83062310061034,\n",
              "  17.83062310061034,\n",
              "  17.83062310061034,\n",
              "  17.83062310061034,\n",
              "  16.545919526172614,\n",
              "  16.522979341190364,\n",
              "  16.626846135382614,\n",
              "  16.626846135382614,\n",
              "  16.626846135382614,\n",
              "  16.626846135382614,\n",
              "  17.847561563289787,\n",
              "  18.020700328696975,\n",
              "  18.043278904149666,\n",
              "  18.0696364108145,\n",
              "  18.43436116754915,\n",
              "  18.519923476866445,\n",
              "  18.24613036736478,\n",
              "  18.11610746673349,\n",
              "  18.81293985748802,\n",
              "  18.81293985748802,\n",
              "  18.81293985748802,\n",
              "  18.720277818546993,\n",
              "  18.720277818546993,\n",
              "  18.63411275163763,\n",
              "  17.398138406886282,\n",
              "  17.538385625867107,\n",
              "  17.538385625867107,\n",
              "  17.538385625867107,\n",
              "  18.190739593500552,\n",
              "  18.610743707315876,\n",
              "  18.610743707315876,\n",
              "  19.49351397809805,\n",
              "  19.554539837688058,\n",
              "  19.384390064774443,\n",
              "  19.384390064774443,\n",
              "  19.0700136392404,\n",
              "  18.32160607798695,\n",
              "  17.978112650061718,\n",
              "  17.978112650061718,\n",
              "  17.978112650061718,\n",
              "  17.978112650061718,\n",
              "  18.08816519794336,\n",
              "  18.08816519794336,\n",
              "  17.994126346745425,\n",
              "  17.844957016036503,\n",
              "  17.844957016036503,\n",
              "  17.844957016036503,\n",
              "  17.844957016036503,\n",
              "  18.298340515086768,\n",
              "  18.527070171524528,\n",
              "  18.527070171524528,\n",
              "  18.711432760391546,\n",
              "  18.35515874779383,\n",
              "  18.219358598708727,\n",
              "  18.219358598708727,\n",
              "  18.633895453046037,\n",
              "  18.633895453046037,\n",
              "  18.219926624154315,\n",
              "  18.176332491210115,\n",
              "  18.176332491210115,\n",
              "  18.176332491210115,\n",
              "  18.176332491210115]]"
            ]
          },
          "metadata": {},
          "execution_count": 94
        }
      ],
      "source": [
        "basic_folding(polyA)\n"
      ]
    },
    {
      "cell_type": "markdown",
      "metadata": {
        "id": "BRgLO3_We1e3"
      },
      "source": [
        "### Exercise 1: Comparing to Alpha Helices\n",
        "Using the program you wrote previously, force the $A_{10}$ sequence into an ideal α-helix.\n",
        "\n",
        "**Questions:** Does this helical structure have a lower score than that produced by your folding algorithm above? What does this mean about your sampling or discrimination?"
      ]
    },
    {
      "cell_type": "markdown",
      "source": [
        "https://www.cryst.bbk.ac.uk/PPS95/course/9_quaternary/3_geometry/torsion.html#:~:text=Typical%20values%20are%20phi%20%3D%20%2D140,degrees%20and%20psi%20%3D%20130%20degrees."
      ],
      "metadata": {
        "id": "JS9uGAr-mrul"
      }
    },
    {
      "cell_type": "code",
      "execution_count": null,
      "metadata": {
        "id": "spdlErKQe1e3"
      },
      "outputs": [],
      "source": [
        "# Answer the above questions here:\n",
        "for i in polyA.sequence:\n"
      ]
    },
    {
      "cell_type": "markdown",
      "metadata": {
        "id": "Y6aQUH-qe1e3"
      },
      "source": [
        "### Exercise 2: Optimizing Algorithm \n",
        "Since your program is a stochastic search algorithm, it may not produce an ideal structure consistently, so try running the simulation multiple times or with a different number of cycles (if necessary). Using a kT of 1, your program may need to make up to 500,000 iterations."
      ]
    },
    {
      "cell_type": "code",
      "execution_count": null,
      "metadata": {
        "id": "LjipRZJke1e4"
      },
      "outputs": [],
      "source": [
        "# Report the lowest energy pose you found and the energy of that pose.\n",
        "# Dump this pose to a PDB file and visualize it in PyMOL. Submit a screenshot of the pose in PyMOL."
      ]
    }
  ],
  "metadata": {
    "anaconda-cloud": {},
    "kernelspec": {
      "display_name": "Python 3",
      "language": "python",
      "name": "python3"
    },
    "language_info": {
      "codemirror_mode": {
        "name": "ipython",
        "version": 3
      },
      "file_extension": ".py",
      "mimetype": "text/x-python",
      "name": "python",
      "nbconvert_exporter": "python",
      "pygments_lexer": "ipython3",
      "version": "3.6.0"
    },
    "toc": {
      "base_numbering": 1,
      "nav_menu": {},
      "number_sections": true,
      "sideBar": true,
      "skip_h1_title": false,
      "title_cell": "Table of Contents",
      "title_sidebar": "Contents",
      "toc_cell": false,
      "toc_position": {
        "height": "calc(100% - 180px)",
        "left": "10px",
        "top": "150px",
        "width": "254.188px"
      },
      "toc_section_display": true,
      "toc_window_display": true
    },
    "colab": {
      "provenance": []
    }
  },
  "nbformat": 4,
  "nbformat_minor": 0
}